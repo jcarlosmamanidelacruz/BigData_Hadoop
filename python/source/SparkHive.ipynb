{
 "cells": [
  {
   "cell_type": "code",
   "execution_count": 1,
   "id": "24878e2c-c21c-4cae-9ef7-5c5d35489582",
   "metadata": {
    "tags": []
   },
   "outputs": [
    {
     "name": "stdout",
     "output_type": "stream",
     "text": [
      "Requirement already satisfied: pyspark in /usr/local/lib/python3.9/site-packages (3.5.1)\n",
      "Requirement already satisfied: py4j==0.10.9.7 in /usr/local/lib/python3.9/site-packages (from pyspark) (0.10.9.7)\n",
      "\u001b[33mWARNING: Running pip as the 'root' user can result in broken permissions and conflicting behaviour with the system package manager. It is recommended to use a virtual environment instead: https://pip.pypa.io/warnings/venv\u001b[0m\u001b[33m\n",
      "\u001b[0m\n",
      "\u001b[1m[\u001b[0m\u001b[34;49mnotice\u001b[0m\u001b[1;39;49m]\u001b[0m\u001b[39;49m A new release of pip is available: \u001b[0m\u001b[31;49m23.0.1\u001b[0m\u001b[39;49m -> \u001b[0m\u001b[32;49m24.0\u001b[0m\n",
      "\u001b[1m[\u001b[0m\u001b[34;49mnotice\u001b[0m\u001b[1;39;49m]\u001b[0m\u001b[39;49m To update, run: \u001b[0m\u001b[32;49mpip install --upgrade pip\u001b[0m\n"
     ]
    }
   ],
   "source": [
    "! pip install pyspark"
   ]
  },
  {
   "cell_type": "code",
   "execution_count": 4,
   "id": "e36c7fea-4530-45c4-891f-14ed7fabd9dc",
   "metadata": {
    "tags": []
   },
   "outputs": [],
   "source": [
    "\n",
    "from pyspark.sql.types import *\n",
    "from pyspark.sql.window import Window\n",
    "\n",
    "import pyspark.sql.functions as F\n",
    "from pyspark.sql.functions import udf, col"
   ]
  },
  {
   "cell_type": "code",
   "execution_count": 7,
   "id": "8b41148b-e7ca-4abb-ae59-d6bd91549ee8",
   "metadata": {
    "tags": []
   },
   "outputs": [
    {
     "name": "stderr",
     "output_type": "stream",
     "text": [
      "24/04/04 15:50:52 WARN SparkSession: Using an existing Spark session; only runtime SQL configurations will take effect.\n"
     ]
    }
   ],
   "source": [
    "from pyspark.sql import SparkSession\n",
    "\n",
    "spark = SparkSession.builder \\\n",
    "      .config(\"hive.metastore.uris\", \"thrift://172.27.1.8:9083\")\\\n",
    "      .config(\"spark.sql.warehouse.dir\", \"/user/hive/warehouse\")\\\n",
    "      .enableHiveSupport() \\\n",
    "      .getOrCreate() "
   ]
  },
  {
   "cell_type": "code",
   "execution_count": 9,
   "id": "7b0965ab-0f74-482b-9eef-cbe4beb4f8ae",
   "metadata": {
    "tags": []
   },
   "outputs": [
    {
     "name": "stdout",
     "output_type": "stream",
     "text": [
      "+-------+--------------+\n",
      "|idmarca|nombremarca   |\n",
      "+-------+--------------+\n",
      "|1      |ACURA         |\n",
      "|2      |AUDI          |\n",
      "|6      |BAJAJ         |\n",
      "|7      |BLUE BIRD     |\n",
      "|4      |BMW           |\n",
      "|5      |BOMBARDIER LTD|\n",
      "|3      |BUICK         |\n",
      "|8      |CADILLAC      |\n",
      "|9      |CHEVROLET     |\n",
      "|10     |CHRYSLER      |\n",
      "|11     |CITROEN       |\n",
      "|12     |COMMER        |\n",
      "|15     |DAEWOO        |\n",
      "|13     |DODGE         |\n",
      "|16     |DONG FENG     |\n",
      "|17     |DORSEY        |\n",
      "|14     |DUCATI        |\n",
      "|21     |FERRARI       |\n",
      "|19     |FIAT          |\n",
      "|18     |FORD          |\n",
      "+-------+--------------+\n",
      "only showing top 20 rows\n",
      "\n"
     ]
    }
   ],
   "source": [
    "spark.sql(\"select * from importaciones_db.marca\").show(truncate=False)"
   ]
  },
  {
   "cell_type": "code",
   "execution_count": 11,
   "id": "a9bdb92c-1c46-4c8e-ac7b-97ed6ad89286",
   "metadata": {
    "tags": []
   },
   "outputs": [
    {
     "name": "stdout",
     "output_type": "stream",
     "text": [
      "+-------+----------------------+\n",
      "|idlinea|nombrelinea           |\n",
      "+-------+----------------------+\n",
      "|1      |TL                    |\n",
      "|2      |RSX                   |\n",
      "|3      |RSX TYPE-S            |\n",
      "|4      |INTEGRA GS            |\n",
      "|5      |TSX                   |\n",
      "|6      |RSX  S                |\n",
      "|7      |RDX AWD               |\n",
      "|8      |CSX                   |\n",
      "|9      |MDX TOURING 4X4       |\n",
      "|10     |RSX TYPE S            |\n",
      "|11     |A4 2.0T QUATTRO       |\n",
      "|12     |A4 1.8T QUATTRO       |\n",
      "|13     |A4 QUATTRO            |\n",
      "|14     |A4 2.0T               |\n",
      "|15     |Q7 QUATTRO PREMIUM AWD|\n",
      "|16     |A4                    |\n",
      "|17     |Q5 PRESTIGE 4X4       |\n",
      "|18     |Q7 4.2 QUATTRO 4X4    |\n",
      "|19     |A3                    |\n",
      "|20     |A6 3.2 QUATTRO        |\n",
      "+-------+----------------------+\n",
      "only showing top 20 rows\n",
      "\n"
     ]
    }
   ],
   "source": [
    "spark.sql(\"select * from importaciones_db.linea\").show(truncate=False)"
   ]
  },
  {
   "cell_type": "code",
   "execution_count": 14,
   "id": "b36d97d2-d296-4854-a528-b038099bf676",
   "metadata": {
    "tags": []
   },
   "outputs": [
    {
     "name": "stdout",
     "output_type": "stream",
     "text": [
      "+-----------------+---------------------+\n",
      "|idtipocombustible|nombretipocombustible|\n",
      "+-----------------+---------------------+\n",
      "|1                |GASOLINA             |\n",
      "|2                |DIESEL               |\n",
      "|3                |OTROS                |\n",
      "+-----------------+---------------------+\n",
      "\n"
     ]
    }
   ],
   "source": [
    "spark.sql(\"select * from importaciones_db.TIPO_COMBUSTIBLE\").show(truncate=False)"
   ]
  },
  {
   "cell_type": "code",
   "execution_count": 17,
   "id": "0541c55e-ebb6-4207-a961-55dea82a98e4",
   "metadata": {
    "tags": []
   },
   "outputs": [
    {
     "name": "stdout",
     "output_type": "stream",
     "text": [
      "+----------------+--------------------+\n",
      "|idtipoimportador|nombretipoimportador|\n",
      "+----------------+--------------------+\n",
      "|1               |OCASIONAL           |\n",
      "|2               |DISTRIBUIDOR        |\n",
      "+----------------+--------------------+\n",
      "\n"
     ]
    }
   ],
   "source": [
    "spark.sql(\"select * from importaciones_db.TIPO_IMPORTADOR\").show(truncate=False)"
   ]
  },
  {
   "cell_type": "code",
   "execution_count": 16,
   "id": "58fac0bf-151a-46a5-a835-4fd4e8c2a11b",
   "metadata": {
    "tags": []
   },
   "outputs": [
    {
     "name": "stdout",
     "output_type": "stream",
     "text": [
      "+--------------+------------------+\n",
      "|idtipovehiculo|nombretipovehiculo|\n",
      "+--------------+------------------+\n",
      "|1             |AUTOMOVIL         |\n",
      "|2             |CAMIONETA         |\n",
      "|3             |MOTO              |\n",
      "|4             |CUATRIMOTO        |\n",
      "|5             |TRIMOTO           |\n",
      "|6             |BUS               |\n",
      "|7             |PICK UP           |\n",
      "|8             |CAMION            |\n",
      "|9             |CAMION FURGON     |\n",
      "|10            |MICROBUS          |\n",
      "|11            |JEEP              |\n",
      "|12            |CAMIONETILLA      |\n",
      "|13            |PANEL             |\n",
      "|14            |REMOLQUE          |\n",
      "|15            |CAMION BOMBEROS   |\n",
      "|16            |PORTA CONTENEDOR  |\n",
      "|17            |PLATAFORMA        |\n",
      "|18            |AUTOBUS           |\n",
      "|19            |CAMION GRUA       |\n",
      "|20            |AMBULANCIA        |\n",
      "+--------------+------------------+\n",
      "only showing top 20 rows\n",
      "\n"
     ]
    }
   ],
   "source": [
    "spark.sql(\"select * from importaciones_db.TIPO_VEHICULO\").show(truncate=False)"
   ]
  },
  {
   "cell_type": "code",
   "execution_count": 18,
   "id": "a1b906c2-cac5-4430-ab38-9f616c08995e",
   "metadata": {
    "tags": []
   },
   "outputs": [
    {
     "name": "stdout",
     "output_type": "stream",
     "text": [
      "+------------+---------------------------------------+\n",
      "|idpaisorigen|nombrepaisorigen                       |\n",
      "+------------+---------------------------------------+\n",
      "|1           |ESTADOS UNIDOS                         |\n",
      "|2           |JAPON                                  |\n",
      "|3           |CANADA                                 |\n",
      "|4           |ALEMANIA REP. FED.                     |\n",
      "|5           |SLOVAKIA                               |\n",
      "|6           |ESPANA                                 |\n",
      "|7           |INDIA                                  |\n",
      "|8           |CHINA                                  |\n",
      "|9           |MEXICO                                 |\n",
      "|10          |COREA DEL SUR                          |\n",
      "|11          |KOREA DEL NORTE (REPUBLICA DEMOCRATICA)|\n",
      "|12          |FRANCIA                                |\n",
      "|13          |ITALIA                                 |\n",
      "|14          |TURQUIA                                |\n",
      "|15          |TAIWAN                                 |\n",
      "|16          |REINO UNIDO                            |\n",
      "|17          |BRASIL                                 |\n",
      "|18          |TAILANDIA                              |\n",
      "|19          |SUECIA                                 |\n",
      "|20          |BELICE                                 |\n",
      "+------------+---------------------------------------+\n",
      "only showing top 20 rows\n",
      "\n"
     ]
    }
   ],
   "source": [
    "spark.sql(\"select * from importaciones_db.PAIS_ORIGEN\").show(truncate=False)"
   ]
  },
  {
   "cell_type": "code",
   "execution_count": 40,
   "id": "ac663d00-1c90-456c-b1eb-4a7272624abb",
   "metadata": {},
   "outputs": [
    {
     "name": "stdout",
     "output_type": "stream",
     "text": [
      "+-------------+---------------+--------------+----------------+-------------------+------------------+----------------+--------+--------+-------+--------+--------+\n",
      "|idimportacion|idpais_idaduana|idlinea_modelo|idtipovehiculofk|idtipocombustiblefk|idtipoimportadorfk|fechaimportacion|valorcif|impuesto|puertas|tonelaje|asientos|\n",
      "+-------------+---------------+--------------+----------------+-------------------+------------------+----------------+--------+--------+-------+--------+--------+\n",
      "|1            |1              |1             |1               |1                  |1                 |17/01/2017      |11926.16|1431.14 |4      |0.0     |5       |\n",
      "|2            |2              |2             |1               |1                  |1                 |23/01/2017      |21652.99|2598.36 |4      |0.0     |5       |\n",
      "|3            |3              |3             |1               |1                  |1                 |19/01/2017      |9928.89 |1191.47 |2      |0.0     |5       |\n",
      "|4            |4              |4             |1               |1                  |1                 |07/02/2017      |19304.72|2316.57 |2      |0.0     |4       |\n",
      "|5            |4              |5             |1               |1                  |1                 |06/02/2017      |9889.75 |1186.77 |2      |0.0     |5       |\n",
      "|6            |3              |6             |1               |1                  |1                 |04/02/2017      |13577.56|1629.31 |4      |0.0     |5       |\n",
      "|7            |5              |7             |1               |1                  |1                 |30/01/2017      |25270.57|3032.47 |2      |0.0     |5       |\n",
      "|8            |1              |8             |2               |1                  |1                 |20/01/2017      |56362.25|6763.47 |4      |0.0     |5       |\n",
      "|9            |6              |9             |1               |1                  |1                 |23/01/2017      |11638.48|1396.62 |4      |0.0     |5       |\n",
      "|10           |3              |10            |1               |1                  |1                 |16/01/2017      |7757.29 |930.87  |2      |0.0     |4       |\n",
      "|11           |6              |11            |2               |1                  |1                 |24/01/2017      |12635.12|1516.21 |4      |0.0     |7       |\n",
      "|12           |3              |12            |1               |1                  |1                 |31/01/2017      |15546.75|1865.61 |2      |0.0     |4       |\n",
      "|13           |3              |6             |1               |1                  |1                 |03/02/2017      |13749.15|1649.9  |4      |0.0     |5       |\n",
      "|14           |7              |13            |1               |1                  |1                 |30/01/2017      |29001.45|3480.17 |4      |0.0     |5       |\n",
      "|15           |7              |14            |1               |1                  |1                 |01/02/2017      |8298.22 |995.79  |4      |0.0     |5       |\n",
      "|16           |7              |15            |1               |1                  |1                 |01/02/2017      |11356.98|1362.84 |4      |0.0     |5       |\n",
      "|17           |7              |16            |1               |1                  |1                 |01/02/2017      |17282.04|2073.84 |4      |0.0     |5       |\n",
      "|18           |7              |17            |1               |1                  |1                 |01/02/2017      |16534.87|1984.18 |4      |0.0     |5       |\n",
      "|19           |8              |18            |2               |1                  |1                 |31/01/2017      |50340.08|6040.81 |4      |0.0     |7       |\n",
      "|20           |7              |19            |1               |1                  |1                 |25/01/2017      |14395.39|1727.45 |4      |0.0     |5       |\n",
      "+-------------+---------------+--------------+----------------+-------------------+------------------+----------------+--------+--------+-------+--------+--------+\n",
      "only showing top 20 rows\n",
      "\n"
     ]
    }
   ],
   "source": [
    "spark.sql(\"select * from importaciones_db.IMPORTACION\").show(truncate=False)"
   ]
  },
  {
   "cell_type": "code",
   "execution_count": 41,
   "id": "cfbc7472-3a3c-465b-ae12-8c56a757a470",
   "metadata": {},
   "outputs": [
    {
     "name": "stdout",
     "output_type": "stream",
     "text": [
      "+---------------+------------+---------------+\n",
      "|idpais_idaduana|idpaisorigen|idaduanaingreso|\n",
      "+---------------+------------+---------------+\n",
      "|1              |1           |1              |\n",
      "|2              |1           |2              |\n",
      "|17             |1           |3              |\n",
      "|16             |1           |4              |\n",
      "|18             |1           |5              |\n",
      "|23             |1           |6              |\n",
      "|19             |1           |7              |\n",
      "|32             |1           |8              |\n",
      "|3              |2           |1              |\n",
      "|4              |2           |2              |\n",
      "|5              |2           |3              |\n",
      "|6              |3           |1              |\n",
      "|33             |3           |2              |\n",
      "|24             |3           |3              |\n",
      "|7              |4           |1              |\n",
      "|9              |4           |2              |\n",
      "|14             |4           |3              |\n",
      "|8              |4           |4              |\n",
      "|10             |4           |5              |\n",
      "|15             |4           |6              |\n",
      "+---------------+------------+---------------+\n",
      "only showing top 20 rows\n",
      "\n"
     ]
    }
   ],
   "source": [
    "spark.sql(\"select * from importaciones_db.pais_aduana\").show(truncate=False)"
   ]
  },
  {
   "cell_type": "code",
   "execution_count": 42,
   "id": "8a0f626b-ec21-4b8d-b7a9-a93a7d149ab8",
   "metadata": {},
   "outputs": [
    {
     "name": "stdout",
     "output_type": "stream",
     "text": [
      "+------------+---------------------------------------+\n",
      "|idpaisorigen|nombrepaisorigen                       |\n",
      "+------------+---------------------------------------+\n",
      "|1           |ESTADOS UNIDOS                         |\n",
      "|2           |JAPON                                  |\n",
      "|3           |CANADA                                 |\n",
      "|4           |ALEMANIA REP. FED.                     |\n",
      "|5           |SLOVAKIA                               |\n",
      "|6           |ESPANA                                 |\n",
      "|7           |INDIA                                  |\n",
      "|8           |CHINA                                  |\n",
      "|9           |MEXICO                                 |\n",
      "|10          |COREA DEL SUR                          |\n",
      "|11          |KOREA DEL NORTE (REPUBLICA DEMOCRATICA)|\n",
      "|12          |FRANCIA                                |\n",
      "|13          |ITALIA                                 |\n",
      "|14          |TURQUIA                                |\n",
      "|15          |TAIWAN                                 |\n",
      "|16          |REINO UNIDO                            |\n",
      "|17          |BRASIL                                 |\n",
      "|18          |TAILANDIA                              |\n",
      "|19          |SUECIA                                 |\n",
      "|20          |BELICE                                 |\n",
      "+------------+---------------------------------------+\n",
      "only showing top 20 rows\n",
      "\n"
     ]
    }
   ],
   "source": [
    "spark.sql(\"select * from importaciones_db.pais_origen\").show(truncate=False)"
   ]
  },
  {
   "cell_type": "markdown",
   "id": "1f8fe072-3dda-4eed-b530-c2d5384a3cb6",
   "metadata": {},
   "source": [
    "### Enunciado 1\n",
    "¿Cuál es el total de valor del Costo, Seguro y Flete (CIF) de las importaciones por país en un año específico, , ordenado por el total de CIF en orden descendente?"
   ]
  },
  {
   "cell_type": "code",
   "execution_count": 60,
   "id": "8459a82d-e773-40a1-8b11-4df56f4943cb",
   "metadata": {},
   "outputs": [
    {
     "name": "stdout",
     "output_type": "stream",
     "text": [
      "+------------------+--------------------+\n",
      "|  nombrepaisorigen|           valor_cif|\n",
      "+------------------+--------------------+\n",
      "|             CHINA| 4.774244300560189E9|\n",
      "|             INDIA| 1.570532227949962E9|\n",
      "|             JAPON|  3.52988131369999E8|\n",
      "|         TAILANDIA| 2.709255181200002E8|\n",
      "|     COREA DEL SUR| 1.853637509100004E8|\n",
      "|            BRASIL|      1.1451495324E8|\n",
      "|    ESTADOS UNIDOS| 8.642539742000003E7|\n",
      "|            CANADA| 2.380309717999999E7|\n",
      "|            MEXICO|1.9315851560000002E7|\n",
      "|ALEMANIA REP. FED.|   9254979.390000006|\n",
      "|         INDONESIA|   7981075.059999999|\n",
      "|       REINO UNIDO|  6127052.0600000005|\n",
      "|         ARGENTINA|  1990308.9500000002|\n",
      "|           BELGICA|  1476442.0799999998|\n",
      "|          SLOVAKIA|          1276098.13|\n",
      "|          COLOMBIA|   932414.8799999999|\n",
      "|           FRANCIA|           704772.75|\n",
      "|            SUECIA|  434876.72000000003|\n",
      "|            ESPANA|           181283.12|\n",
      "|           AUSTRIA|           180921.07|\n",
      "+------------------+--------------------+\n",
      "only showing top 20 rows\n",
      "\n"
     ]
    }
   ],
   "source": [
    "spark.sql(\"\"\"select\n",
    "tc.nombrepaisorigen, sum(valorcif) valor_cif\n",
    "from importaciones_db.importacion ta\n",
    "\tleft join importaciones_db.pais_aduana tb on ta.IdPais_IdAduana = tb.idpais_idaduana\n",
    "\tleft join importaciones_db.pais_origen tc on tb.IdPaisOrigen = tc.idpaisorigen\n",
    "where substr(FechaImportacion, 7, 4)  = 2017\n",
    "group by tc.nombrepaisorigen\n",
    "order by 2 desc;\"\"\").show()"
   ]
  },
  {
   "cell_type": "markdown",
   "id": "a02422d7-99b2-4c87-a46b-92e4f82fe94c",
   "metadata": {},
   "source": [
    "### Enunciado 2\n",
    "¿Cuál es el valor total y el valor promedio de impuestos recaudados por años de las importaciones vehiculares?"
   ]
  },
  {
   "cell_type": "code",
   "execution_count": 45,
   "id": "2e927a68-6441-46f9-a3a1-f19fd5a85354",
   "metadata": {
    "tags": []
   },
   "outputs": [
    {
     "name": "stdout",
     "output_type": "stream",
     "text": [
      "+----+-------------------+---------+\n",
      "| aio|              total| promedio|\n",
      "+----+-------------------+---------+\n",
      "|2017|8.917512902700138E8|49921.698|\n",
      "+----+-------------------+---------+\n",
      "\n"
     ]
    }
   ],
   "source": [
    "spark.sql(\"\"\"select\n",
    "\tsubstr(ta.FechaImportacion, 7, 4) as aio,\n",
    "\tsum(ta.impuesto) total,\n",
    "\tround(avg(ta.impuesto), 3) promedio\n",
    "from importaciones_db.importacion ta\n",
    "group by substr(ta.FechaImportacion, 7, 4)\n",
    "order by 1 desc\"\"\").show()"
   ]
  },
  {
   "cell_type": "markdown",
   "id": "bc3d8ccf-1103-499d-aa05-73b0756efd08",
   "metadata": {},
   "source": [
    "### Enunciado 3\n",
    "¿Cuál es el total de impuestos recaudados por tipo de importador en un año específico?\n"
   ]
  },
  {
   "cell_type": "code",
   "execution_count": 64,
   "id": "aba5d0ec-5bba-43a0-92c4-48ff032e0eaa",
   "metadata": {
    "tags": []
   },
   "outputs": [
    {
     "name": "stdout",
     "output_type": "stream",
     "text": [
      "+--------------------+-------------------+\n",
      "|nombretipoimportador|              total|\n",
      "+--------------------+-------------------+\n",
      "|        DISTRIBUIDOR|1.206381834599995E8|\n",
      "|           OCASIONAL|7.711131068099397E8|\n",
      "+--------------------+-------------------+\n",
      "\n"
     ]
    }
   ],
   "source": [
    "spark.sql(\"\"\"\n",
    "select\n",
    "\ttb.nombretipoimportador,\n",
    "\tsum(impuesto) total\n",
    "from importaciones_db.importacion ta\n",
    "\tleft join importaciones_db.tipo_importador tb on ta.idtipoimportadorfk = tb.idtipoimportador\n",
    "where substr(FechaImportacion, 7, 4)  = 2017\n",
    "group by tb.nombretipoimportador\n",
    "order by 1\n",
    "\"\"\").show()"
   ]
  },
  {
   "cell_type": "markdown",
   "id": "b81df90c-fab3-44dc-a485-b063f806a9ef",
   "metadata": {},
   "source": [
    "### Enunciado 4\n",
    "¿Cuál es la aduana que ha recaudado más ingresos en un año determinado, ordenado por el total de ingresos en orden descendente?"
   ]
  },
  {
   "cell_type": "code",
   "execution_count": 69,
   "id": "985160ac-0c23-43be-87c9-45b3c2b5db00",
   "metadata": {
    "tags": []
   },
   "outputs": [
    {
     "name": "stderr",
     "output_type": "stream",
     "text": [
      "24/04/04 17:08:59 WARN LazyStruct: Extra bytes detected at the end of the row! Ignoring similar problems.\n",
      "24/04/04 17:08:59 WARN LazyStruct: Extra bytes detected at the end of the row! Ignoring similar problems.\n",
      "24/04/04 17:08:59 WARN LazyStruct: Extra bytes detected at the end of the row! Ignoring similar problems.\n"
     ]
    },
    {
     "name": "stdout",
     "output_type": "stream",
     "text": [
      "+--------------------+--------------------+\n",
      "| NombreAduanaIngreso|           valor_cif|\n",
      "+--------------------+--------------------+\n",
      "|      PUERTO QUETZAL| 7.077334003959732E9|\n",
      "|SANTO TOMAS DE CA...|1.4854394534999973E8|\n",
      "|           EL CARMEN|6.5388829570000045E7|\n",
      "|      PUERTO BARRIOS| 6.191948598000011E7|\n",
      "|          TECUN UMAN| 5.912543075999993E7|\n",
      "|       EXPRESS AEREO|   7425997.800000004|\n",
      "|   PEDRO DE ALVARADO|  2777197.9800000004|\n",
      "|                  G8|  2574271.4599999995|\n",
      "|                  G4|  1837049.7099999997|\n",
      "|                  G1|          1508663.76|\n",
      "|   MELCHOR DE MENCOS|  206389.71999999997|\n",
      "|         VALLE NUEVO|           113095.83|\n",
      "|       SAN CRISTOBAL|           101742.68|\n",
      "|            EL CEIBO|            50403.34|\n",
      "|          LA MESILLA|            23685.01|\n",
      "|       AGUA CALIENTE|            22665.54|\n",
      "+--------------------+--------------------+\n",
      "\n"
     ]
    }
   ],
   "source": [
    "spark.sql(\"\"\"\n",
    "select tc.NombreAduanaIngreso, sum(valorcif) valor_cif\n",
    "from importaciones_db.importacion ta\n",
    "\tleft join importaciones_db.pais_aduana tb on ta.IdPais_IdAduana = tb.IdPais_IdAduana\n",
    "\tleft join importaciones_db.aduana_ingreso tc on tb.IdAduanaIngreso = tc.IdAduanaIngreso\n",
    "where substr(FechaImportacion, 7, 4)  = 2017\n",
    "group by tc.NombreAduanaIngreso\n",
    "order by 2 desc;\n",
    "\"\"\").show()"
   ]
  },
  {
   "cell_type": "markdown",
   "id": "a78daa01-41a8-4777-bd6c-8dffc390e4ba",
   "metadata": {},
   "source": [
    "### Enunciado 5\n",
    "¿Cuáles son las 5 aduanas con el mayor número de importaciones de BUSES en términos de cantidad de vehículos?"
   ]
  },
  {
   "cell_type": "code",
   "execution_count": 70,
   "id": "dd76e7b3-53a8-4dc5-ab2f-2416c86e4178",
   "metadata": {},
   "outputs": [
    {
     "name": "stderr",
     "output_type": "stream",
     "text": [
      "24/04/04 17:14:23 WARN LazyStruct: Extra bytes detected at the end of the row! Ignoring similar problems.\n",
      "24/04/04 17:14:23 WARN LazyStruct: Extra bytes detected at the end of the row! Ignoring similar problems.\n",
      "24/04/04 17:14:23 WARN LazyStruct: Extra bytes detected at the end of the row! Ignoring similar problems.\n"
     ]
    },
    {
     "name": "stdout",
     "output_type": "stream",
     "text": [
      "+--------------------+---------+\n",
      "| NombreAduanaIngreso|valor_cif|\n",
      "+--------------------+---------+\n",
      "|      PUERTO QUETZAL|     8142|\n",
      "|      PUERTO BARRIOS|     3358|\n",
      "|           EL CARMEN|     2985|\n",
      "|          TECUN UMAN|     1745|\n",
      "|SANTO TOMAS DE CA...|     1188|\n",
      "+--------------------+---------+\n",
      "\n"
     ]
    }
   ],
   "source": [
    "spark.sql(\"\"\"\n",
    "select tc.NombreAduanaIngreso, count(*) valor_cif\n",
    "from importaciones_db.importacion ta\n",
    "\tleft join importaciones_db.pais_aduana tb on ta.IdPais_IdAduana = tb.IdPais_IdAduana\n",
    "\tleft join importaciones_db.aduana_ingreso tc on tb.IdAduanaIngreso = tc.IdAduanaIngreso\n",
    "where substr(FechaImportacion, 7, 4)  = 2017\n",
    "group by tc.NombreAduanaIngreso\n",
    "order by 2 desc\n",
    "limit 5\n",
    "\"\"\").show()"
   ]
  },
  {
   "cell_type": "markdown",
   "id": "76f5cfd5-a3b0-4b4a-8d93-f1acd0abbd25",
   "metadata": {},
   "source": [
    "### Enunciado 6\n",
    "¿Cuál es el total de impuestos registrados por año y cuánto fue en el año siguiente?\n"
   ]
  },
  {
   "cell_type": "code",
   "execution_count": 74,
   "id": "306ee88e-94bd-4a97-8b43-2a154c922b0e",
   "metadata": {},
   "outputs": [
    {
     "name": "stderr",
     "output_type": "stream",
     "text": [
      "24/04/04 17:18:46 WARN WindowExec: No Partition Defined for Window operation! Moving all data to a single partition, this can cause serious performance degradation.\n",
      "24/04/04 17:18:46 WARN WindowExec: No Partition Defined for Window operation! Moving all data to a single partition, this can cause serious performance degradation.\n",
      "24/04/04 17:18:46 WARN WindowExec: No Partition Defined for Window operation! Moving all data to a single partition, this can cause serious performance degradation.\n",
      "24/04/04 17:18:47 WARN WindowExec: No Partition Defined for Window operation! Moving all data to a single partition, this can cause serious performance degradation.\n",
      "24/04/04 17:18:47 WARN WindowExec: No Partition Defined for Window operation! Moving all data to a single partition, this can cause serious performance degradation.\n",
      "24/04/04 17:18:47 WARN WindowExec: No Partition Defined for Window operation! Moving all data to a single partition, this can cause serious performance degradation.\n",
      "24/04/04 17:18:47 WARN WindowExec: No Partition Defined for Window operation! Moving all data to a single partition, this can cause serious performance degradation.\n"
     ]
    },
    {
     "name": "stdout",
     "output_type": "stream",
     "text": [
      "+-------+-------------------+--------------------------+\n",
      "|periodo|              total|importacion_siguiente_anio|\n",
      "+-------+-------------------+--------------------------+\n",
      "|   2017|8.917512902700138E8|                      NULL|\n",
      "+-------+-------------------+--------------------------+\n",
      "\n"
     ]
    }
   ],
   "source": [
    "spark.sql(\"\"\"\n",
    "select\n",
    "\tsubstr(FechaImportacion, 7, 4) as periodo,\n",
    "\tsum(impuesto) total,\n",
    "\tLEAD(SUM(impuesto), 1) OVER (ORDER BY substr(FechaImportacion, 7, 4)) AS importacion_siguiente_anio\n",
    "from importaciones_db.importacion ta\n",
    "group by substr(FechaImportacion, 7, 4)\n",
    "order by 2 desc;\n",
    "\"\"\").show()\n"
   ]
  }
 ],
 "metadata": {
  "kernelspec": {
   "display_name": "Python 3 (ipykernel)",
   "language": "python",
   "name": "python3"
  },
  "language_info": {
   "codemirror_mode": {
    "name": "ipython",
    "version": 3
   },
   "file_extension": ".py",
   "mimetype": "text/x-python",
   "name": "python",
   "nbconvert_exporter": "python",
   "pygments_lexer": "ipython3",
   "version": "3.9.19"
  }
 },
 "nbformat": 4,
 "nbformat_minor": 5
}
